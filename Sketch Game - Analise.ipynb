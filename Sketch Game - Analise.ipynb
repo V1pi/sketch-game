{
 "cells": [
  {
   "cell_type": "code",
   "execution_count": 1,
   "metadata": {},
   "outputs": [
    {
     "name": "stderr",
     "output_type": "stream",
     "text": [
      "Using TensorFlow backend.\n"
     ]
    }
   ],
   "source": [
    "from tensorflow.keras.models import Sequential\n",
    "from tensorflow.keras.layers import Conv2D, MaxPooling2D, Dropout, Flatten, Dense\n",
    "from keras.applications.resnet50 import ResNet50\n",
    "import struct\n",
    "from struct import unpack\n",
    "import pandas as pd\n",
    "import numpy as np\n",
    "import matplotlib.pyplot as plt\n",
    "import json\n",
    "import cairocffi as cairo\n",
    "from sklearn.utils import shuffle\n",
    "%matplotlib inline"
   ]
  },
  {
   "cell_type": "code",
   "execution_count": 116,
   "metadata": {},
   "outputs": [],
   "source": [
    "def unpack_drawing(file_handle):\n",
    "    key_id, = unpack('Q', file_handle.read(8))\n",
    "    countrycode, = unpack('2s', file_handle.read(2))\n",
    "    recognized, = unpack('b', file_handle.read(1))\n",
    "    timestamp, = unpack('I', file_handle.read(4))\n",
    "    n_strokes, = unpack('H', file_handle.read(2))\n",
    "    image = []\n",
    "    for i in range(n_strokes):\n",
    "        n_points, = unpack('H', file_handle.read(2))\n",
    "        fmt = str(n_points) + 'B'\n",
    "        x = unpack(fmt, file_handle.read(n_points))\n",
    "        y = unpack(fmt, file_handle.read(n_points))\n",
    "        image.append((x, y))\n",
    "\n",
    "    return {\n",
    "        'key_id': key_id,\n",
    "        'countrycode': countrycode,\n",
    "        'recognized': recognized,\n",
    "        'timestamp': timestamp,\n",
    "        'image': image\n",
    "    }\n",
    "\n",
    "\n",
    "def unpack_drawings(filename):\n",
    "    with open(filename, 'rb') as f:\n",
    "        while True:\n",
    "            try:\n",
    "                yield unpack_drawing(f)\n",
    "            except struct.error as e:\n",
    "                break\n",
    "\n",
    "def unpack_draw(filename):\n",
    "    list_drawing = []\n",
    "    for drawing in unpack_drawings('data/' + filename + '.bin'):\n",
    "        # do something with the drawing\n",
    "        list_drawing.append(drawing)\n",
    "    \n",
    "    return list_drawing"
   ]
  },
  {
   "cell_type": "code",
   "execution_count": 117,
   "metadata": {},
   "outputs": [],
   "source": [
    "axe = unpack_draw('axe')"
   ]
  },
  {
   "cell_type": "code",
   "execution_count": 118,
   "metadata": {},
   "outputs": [],
   "source": [
    "data_axe = pd.DataFrame(data=axe, columns=['key_id', 'countrycode', 'recognized', 'timestamp', 'image'])"
   ]
  },
  {
   "cell_type": "code",
   "execution_count": 119,
   "metadata": {},
   "outputs": [],
   "source": [
    "data_axe['image_lenth'] = data_axe['image'].apply(lambda x : np.sum(list(map(lambda y: np.sum(list(map(lambda z: len(z) , y))),x))))"
   ]
  },
  {
   "cell_type": "code",
   "execution_count": 120,
   "metadata": {},
   "outputs": [
    {
     "data": {
      "text/plain": [
       "array([[<matplotlib.axes._subplots.AxesSubplot object at 0x7f8c73e8c898>]],\n",
       "      dtype=object)"
      ]
     },
     "execution_count": 120,
     "metadata": {},
     "output_type": "execute_result"
    },
    {
     "data": {
      "image/png": "[encoded data removed]",
      "text/plain": [
       "<Figure size 864x576 with 1 Axes>"
      ]
     },
     "metadata": {
      "needs_background": "light"
     },
     "output_type": "display_data"
    }
   ],
   "source": [
    "data_axe.hist(bins=500, column='image_lenth', figsize=(12,8))"
   ]
  },
  {
   "cell_type": "code",
   "execution_count": 121,
   "metadata": {},
   "outputs": [
    {
     "data": {
      "text/plain": [
       "count    124122.000000\n",
       "mean         53.289554\n",
       "std          28.980302\n",
       "min           4.000000\n",
       "25%          38.000000\n",
       "50%          48.000000\n",
       "75%          60.000000\n",
       "max        1330.000000\n",
       "Name: image_lenth, dtype: float64"
      ]
     },
     "execution_count": 121,
     "metadata": {},
     "output_type": "execute_result"
    }
   ],
   "source": [
    "data_axe['image_lenth'].describe()"
   ]
  },
  {
   "cell_type": "code",
   "execution_count": 122,
   "metadata": {},
   "outputs": [
    {
     "data": {
      "text/plain": [
       "((2, 38, 71, 108, 128, 139), (10, 24, 31, 22, 14, 4))"
      ]
     },
     "execution_count": 122,
     "metadata": {},
     "output_type": "execute_result"
    }
   ],
   "source": [
    "data_axe['image'][0][0]"
   ]
  },
  {
   "cell_type": "code",
   "execution_count": 123,
   "metadata": {},
   "outputs": [
    {
     "data": {
      "text/plain": [
       "count    124122.0\n",
       "mean          2.0\n",
       "std           0.0\n",
       "min           2.0\n",
       "25%           2.0\n",
       "50%           2.0\n",
       "75%           2.0\n",
       "max           2.0\n",
       "Name: image, dtype: float64"
      ]
     },
     "execution_count": 123,
     "metadata": {},
     "output_type": "execute_result"
    }
   ],
   "source": [
    "data_axe['image'].apply(lambda x : max(list(map(lambda y: len(y),x)))).describe()"
   ]
  },
  {
   "cell_type": "code",
   "execution_count": 124,
   "metadata": {},
   "outputs": [
    {
     "data": {
      "text/plain": [
       "0                   [[6, 6], [8, 8], [4, 4], [8, 8]]\n",
       "1                                 [[13, 13], [5, 5]]\n",
       "2                         [[11, 11], [8, 8], [5, 5]]\n",
       "3         [[14, 14], [8, 8], [6, 6], [8, 8], [9, 9]]\n",
       "4                     [[14, 14], [10, 10], [15, 15]]\n",
       "                             ...                    \n",
       "124117                            [[21, 21], [4, 4]]\n",
       "124118                [[11, 11], [10, 10], [15, 15]]\n",
       "124119                                    [[11, 11]]\n",
       "124120              [[7, 7], [9, 9], [6, 6], [8, 8]]\n",
       "124121                              [[3, 3], [9, 9]]\n",
       "Name: image, Length: 124122, dtype: object"
      ]
     },
     "execution_count": 124,
     "metadata": {},
     "output_type": "execute_result"
    }
   ],
   "source": [
    "data_axe['image'].apply(lambda x : list(map(lambda y: list(map(lambda z: len(z) , y)),x)))"
   ]
  },
  {
   "cell_type": "code",
   "execution_count": 128,
   "metadata": {},
   "outputs": [],
   "source": [
    "def parse_line(inkarray):\n",
    "    \"\"\"Parse an ndjson line and return ink (as np array) and classname.\"\"\"    \n",
    "    stroke_lengths = [len(stroke[0]) for stroke in inkarray]\n",
    "    #print(stroke_lengths)\n",
    "    total_points = sum(stroke_lengths)\n",
    "    np_ink = np.zeros((total_points, 3), dtype=np.float32)\n",
    "    current_t = 0\n",
    "    for stroke in inkarray:\n",
    "        for i in [0, 1]:\n",
    "            np_ink[current_t:(current_t + len(stroke[0])), i] = stroke[i]\n",
    "        current_t += len(stroke[0])\n",
    "        np_ink[current_t - 1, 2] = 1  # stroke_end\n",
    "    # Preprocessing.\n",
    "    # 1. Size normalization.\n",
    "    lower = np.min(np_ink[:, 0:2], axis=0)\n",
    "    upper = np.max(np_ink[:, 0:2], axis=0)\n",
    "    scale = upper - lower\n",
    "    scale[scale == 0] = 1\n",
    "    np_ink[:, 0:2] = (np_ink[:, 0:2] - lower) / scale\n",
    "    # 2. Compute deltas.\n",
    "    np_ink[1:, 0:2] -= np_ink[0:-1, 0:2]\n",
    "    np_ink = np_ink[1:, :]\n",
    "    return np_ink"
   ]
  },
  {
   "cell_type": "code",
   "execution_count": 129,
   "metadata": {},
   "outputs": [],
   "source": [
    "def normalize_vector(list_vector):\n",
    "    new_normalize = []\n",
    "    for v in list_vector:\n",
    "        new_normalize.append(parse_line(v))\n",
    "    return new_normalize"
   ]
  },
  {
   "cell_type": "code",
   "execution_count": 130,
   "metadata": {},
   "outputs": [],
   "source": [
    "nd_axe = normalize_vector(data_axe['image'])"
   ]
  },
  {
   "cell_type": "code",
   "execution_count": 131,
   "metadata": {},
   "outputs": [],
   "source": [
    "data_axe['image_normalized'] = nd_axe"
   ]
  },
  {
   "cell_type": "code",
   "execution_count": 132,
   "metadata": {},
   "outputs": [
    {
     "data": {
      "text/html": [
       "<div>\n",
       "<style scoped>\n",
       "    .dataframe tbody tr th:only-of-type {\n",
       "        vertical-align: middle;\n",
       "    }\n",
       "\n",
       "    .dataframe tbody tr th {\n",
       "        vertical-align: top;\n",
       "    }\n",
       "\n",
       "    .dataframe thead th {\n",
       "        text-align: right;\n",
       "    }\n",
       "</style>\n",
       "<table border=\"1\" class=\"dataframe\">\n",
       "  <thead>\n",
       "    <tr style=\"text-align: right;\">\n",
       "      <th></th>\n",
       "      <th>key_id</th>\n",
       "      <th>countrycode</th>\n",
       "      <th>recognized</th>\n",
       "      <th>timestamp</th>\n",
       "      <th>image</th>\n",
       "      <th>image_lenth</th>\n",
       "      <th>image2</th>\n",
       "      <th>image_normalized</th>\n",
       "    </tr>\n",
       "  </thead>\n",
       "  <tbody>\n",
       "    <tr>\n",
       "      <th>0</th>\n",
       "      <td>5344373355053056</td>\n",
       "      <td>b'KR'</td>\n",
       "      <td>1</td>\n",
       "      <td>1490164248</td>\n",
       "      <td>[((2, 38, 71, 108, 128, 139), (10, 24, 31, 22,...</td>\n",
       "      <td>52</td>\n",
       "      <td>[((2, 38, 71, 108, 128, 139), (10, 24, 31, 22,...</td>\n",
       "      <td>[[0.20454545, 0.05490196, 0.0], [0.1875, 0.027...</td>\n",
       "    </tr>\n",
       "    <tr>\n",
       "      <th>1</th>\n",
       "      <td>6545061917491200</td>\n",
       "      <td>b'SE'</td>\n",
       "      <td>1</td>\n",
       "      <td>1485553794</td>\n",
       "      <td>[((54, 37, 7, 5, 12, 0, 7, 34, 52, 56, 52, 42,...</td>\n",
       "      <td>36</td>\n",
       "      <td>[((54, 37, 7, 5, 12, 0, 7, 34, 52, 56, 52, 42,...</td>\n",
       "      <td>[[-0.17525771, -0.06692913, 0.0], [-0.30927834...</td>\n",
       "    </tr>\n",
       "    <tr>\n",
       "      <th>2</th>\n",
       "      <td>4767264018530304</td>\n",
       "      <td>b'US'</td>\n",
       "      <td>0</td>\n",
       "      <td>1489097582</td>\n",
       "      <td>[((146, 145, 154, 154, 197, 196, 189, 191, 178...</td>\n",
       "      <td>48</td>\n",
       "      <td>[((146, 145, 154, 154, 197, 196, 189, 191, 178...</td>\n",
       "      <td>[[-0.00507617, 0.14960632, 0.0], [0.04568529, ...</td>\n",
       "    </tr>\n",
       "    <tr>\n",
       "      <th>3</th>\n",
       "      <td>5711061690875904</td>\n",
       "      <td>b'DE'</td>\n",
       "      <td>1</td>\n",
       "      <td>1490298672</td>\n",
       "      <td>[((0, 8, 48, 69, 102, 118, 136, 142, 142, 135,...</td>\n",
       "      <td>90</td>\n",
       "      <td>[((0, 8, 48, 69, 102, 118, 136, 142, 142, 135,...</td>\n",
       "      <td>[[0.033755273, -0.09019607, 0.0], [0.16877638,...</td>\n",
       "    </tr>\n",
       "    <tr>\n",
       "      <th>4</th>\n",
       "      <td>6276192535576576</td>\n",
       "      <td>b'US'</td>\n",
       "      <td>1</td>\n",
       "      <td>1485524332</td>\n",
       "      <td>[((25, 19, 4, 0, 22, 49, 59, 63, 66, 62, 59, 5...</td>\n",
       "      <td>78</td>\n",
       "      <td>[((25, 19, 4, 0, 22, 49, 59, 63, 66, 62, 59, 5...</td>\n",
       "      <td>[[-0.02714932, 0.21960786, 0.0], [-0.06787331,...</td>\n",
       "    </tr>\n",
       "  </tbody>\n",
       "</table>\n",
       "</div>"
      ],
      "text/plain": [
       "             key_id countrycode  recognized   timestamp  \\\n",
       "0  5344373355053056       b'KR'           1  1490164248   \n",
       "1  6545061917491200       b'SE'           1  1485553794   \n",
       "2  4767264018530304       b'US'           0  1489097582   \n",
       "3  5711061690875904       b'DE'           1  1490298672   \n",
       "4  6276192535576576       b'US'           1  1485524332   \n",
       "\n",
       "                                               image  image_lenth  \\\n",
       "0  [((2, 38, 71, 108, 128, 139), (10, 24, 31, 22,...           52   \n",
       "1  [((54, 37, 7, 5, 12, 0, 7, 34, 52, 56, 52, 42,...           36   \n",
       "2  [((146, 145, 154, 154, 197, 196, 189, 191, 178...           48   \n",
       "3  [((0, 8, 48, 69, 102, 118, 136, 142, 142, 135,...           90   \n",
       "4  [((25, 19, 4, 0, 22, 49, 59, 63, 66, 62, 59, 5...           78   \n",
       "\n",
       "                                              image2  \\\n",
       "0  [((2, 38, 71, 108, 128, 139), (10, 24, 31, 22,...   \n",
       "1  [((54, 37, 7, 5, 12, 0, 7, 34, 52, 56, 52, 42,...   \n",
       "2  [((146, 145, 154, 154, 197, 196, 189, 191, 178...   \n",
       "3  [((0, 8, 48, 69, 102, 118, 136, 142, 142, 135,...   \n",
       "4  [((25, 19, 4, 0, 22, 49, 59, 63, 66, 62, 59, 5...   \n",
       "\n",
       "                                    image_normalized  \n",
       "0  [[0.20454545, 0.05490196, 0.0], [0.1875, 0.027...  \n",
       "1  [[-0.17525771, -0.06692913, 0.0], [-0.30927834...  \n",
       "2  [[-0.00507617, 0.14960632, 0.0], [0.04568529, ...  \n",
       "3  [[0.033755273, -0.09019607, 0.0], [0.16877638,...  \n",
       "4  [[-0.02714932, 0.21960786, 0.0], [-0.06787331,...  "
      ]
     },
     "execution_count": 132,
     "metadata": {},
     "output_type": "execute_result"
    }
   ],
   "source": [
    "data_axe.head(5)"
   ]
  },
  {
   "cell_type": "code",
   "execution_count": 133,
   "metadata": {},
   "outputs": [],
   "source": [
    "data_axe['image_length'] = data_axe['image_normalized'].apply(len)"
   ]
  },
  {
   "cell_type": "code",
   "execution_count": 134,
   "metadata": {},
   "outputs": [
    {
     "data": {
      "text/plain": [
       "<matplotlib.axes._subplots.AxesSubplot at 0x7f8d44282a90>"
      ]
     },
     "execution_count": 134,
     "metadata": {},
     "output_type": "execute_result"
    },
    {
     "data": {
      "image/png": "[encoded data removed]",
      "text/plain": [
       "<Figure size 864x576 with 1 Axes>"
      ]
     },
     "metadata": {
      "needs_background": "light"
     },
     "output_type": "display_data"
    }
   ],
   "source": [
    "data_axe['image_length'].hist(bins=200, figsize=(12,8))"
   ]
  },
  {
   "cell_type": "code",
   "execution_count": 96,
   "metadata": {},
   "outputs": [
    {
     "data": {
      "text/plain": [
       "count    124122.000000\n",
       "mean         25.644777\n",
       "std          14.490151\n",
       "min           1.000000\n",
       "25%          18.000000\n",
       "50%          23.000000\n",
       "75%          29.000000\n",
       "max         664.000000\n",
       "Name: image_length, dtype: float64"
      ]
     },
     "execution_count": 96,
     "metadata": {},
     "output_type": "execute_result"
    }
   ],
   "source": [
    "data_axe['image_length'].describe()"
   ]
  },
  {
   "cell_type": "code",
   "execution_count": 97,
   "metadata": {},
   "outputs": [
    {
     "data": {
      "text/plain": [
       "46"
      ]
     },
     "execution_count": 97,
     "metadata": {},
     "output_type": "execute_result"
    }
   ],
   "source": [
    "data_axe['image_length'][60000]"
   ]
  },
  {
   "cell_type": "code",
   "execution_count": 136,
   "metadata": {},
   "outputs": [],
   "source": [
    "def vector_to_raster(vector_images, side=28, line_diameter=16, padding=16, bg_color=(0,0,0), fg_color=(1,1,1)):\n",
    "    \"\"\"\n",
    "    padding and line_diameter are relative to the original 256x256 image.\n",
    "    \"\"\"\n",
    "    \n",
    "    original_side = 256.\n",
    "    \n",
    "    surface = cairo.ImageSurface(cairo.FORMAT_ARGB32, side, side)\n",
    "    ctx = cairo.Context(surface)\n",
    "    ctx.set_antialias(cairo.ANTIALIAS_BEST)\n",
    "    ctx.set_line_cap(cairo.LINE_CAP_ROUND)\n",
    "    ctx.set_line_join(cairo.LINE_JOIN_ROUND)\n",
    "    ctx.set_line_width(line_diameter)\n",
    "\n",
    "    # scale to match the new size\n",
    "    # add padding at the edges for the line_diameter\n",
    "    # and add additional padding to account for antialiasing\n",
    "    total_padding = padding * 2. + line_diameter\n",
    "    new_scale = float(side) / float(original_side + total_padding)\n",
    "    ctx.scale(new_scale, new_scale)\n",
    "    ctx.translate(total_padding / 2., total_padding / 2.)\n",
    "\n",
    "    raster_images = []\n",
    "    for vector_image in vector_images:\n",
    "        # clear background\n",
    "        ctx.set_source_rgb(*bg_color)\n",
    "        ctx.paint()\n",
    "        \n",
    "        bbox = np.hstack(vector_image).max(axis=1)\n",
    "        offset = ((original_side, original_side) - bbox) / 2.\n",
    "        offset = offset.reshape(-1,1)\n",
    "        centered = [stroke + offset for stroke in vector_image]\n",
    "    \n",
    "        # draw strokes, this is the most cpu-intensive part\n",
    "        ctx.set_source_rgb(*fg_color)        \n",
    "        for xv, yv in centered:\n",
    "            ctx.move_to(xv[0], yv[0])\n",
    "            for x, y in zip(xv, yv):\n",
    "                ctx.line_to(x, y)\n",
    "            ctx.stroke()\n",
    "\n",
    "        data = surface.get_data()\n",
    "        raster_image = np.copy(np.asarray(data)[::4])\n",
    "        raster_images.append(raster_image)\n",
    "    \n",
    "    return raster_images"
   ]
  },
  {
   "cell_type": "code",
   "execution_count": 138,
   "metadata": {},
   "outputs": [],
   "source": [
    "raster = vector_to_raster(data_axe['image'])"
   ]
  },
  {
   "cell_type": "code",
   "execution_count": 144,
   "metadata": {},
   "outputs": [],
   "source": [
    "data_axe['image_net'] = raster"
   ]
  },
  {
   "cell_type": "code",
   "execution_count": 152,
   "metadata": {},
   "outputs": [],
   "source": [
    "data_axe['image_net'] = data_axe['image_net'].apply(lambda x: x/255)"
   ]
  },
  {
   "cell_type": "code",
   "execution_count": 182,
   "metadata": {},
   "outputs": [],
   "source": [
    "data_axe['image_net'] = data_axe['image_net'].apply(lambda x: np.reshape(x, (28,28,1)))"
   ]
  },
  {
   "cell_type": "code",
   "execution_count": 199,
   "metadata": {},
   "outputs": [],
   "source": [
    "def create_classes(name, array):\n",
    "    index = array.index(name)\n",
    "    result = [0] * len(array)\n",
    "    result[index] = 1\n",
    "    return result"
   ]
  },
  {
   "cell_type": "code",
   "execution_count": 205,
   "metadata": {},
   "outputs": [
    {
     "data": {
      "text/plain": [
       "124122"
      ]
     },
     "execution_count": 205,
     "metadata": {},
     "output_type": "execute_result"
    }
   ],
   "source": [
    "data_axe['image_net'].shape[0]"
   ]
  },
  {
   "cell_type": "code",
   "execution_count": 213,
   "metadata": {},
   "outputs": [],
   "source": [
    "classes = ['axe']\n",
    "n_classes = 1\n",
    "response = create_classes('axe', classes)"
   ]
  },
  {
   "cell_type": "code",
   "execution_count": 215,
   "metadata": {},
   "outputs": [],
   "source": [
    "data_axe['label'] = pd.Series([response]*data_axe['image_net'].shape[0], index=data_axe.index)"
   ]
  },
  {
   "cell_type": "code",
   "execution_count": 197,
   "metadata": {},
   "outputs": [],
   "source": [
    "def create_model(height, width, n_classes):\n",
    "    model = keras.Sequential()\n",
    "    model.add(Conv2D(filters=128, kernel_size=(3, 3), input_shape=(height, width, 1), strides=1, padding='same', activation='relu'))\n",
    "    model.add(MaxPooling2D(pool_size=(2,2)))\n",
    "    model.add(Conv2D(filters=128, kernel_size=(3, 3), strides=1, activation='relu'))\n",
    "    model.add(MaxPooling2D(pool_size=(2,2)))\n",
    "    model.add(Dropout(0.25))\n",
    "    model.add(Conv2D(filters=64, kernel_size=(2, 2), strides=1, activation='relu'))\n",
    "    model.add(MaxPooling2D(pool_size=(1,1)))\n",
    "    model.add(Conv2D(filters=32, kernel_size=(2, 2), strides=1, activation='relu'))\n",
    "    model.add(MaxPooling2D(pool_size=(1,1)))\n",
    "    model.add(Conv2D(filters=32, kernel_size=(2, 2), strides=1, activation='relu'))\n",
    "    model.add(MaxPooling2D(pool_size=(1,1)))\n",
    "    model.add(Dropout(0.25))\n",
    "    model.add(Flatten())\n",
    "    model.add(Dense(64, activation='relu'))\n",
    "    model.add(Dense(n_classes, activation='softmax'))\n",
    "    return model"
   ]
  },
  {
   "cell_type": "code",
   "execution_count": 198,
   "metadata": {},
   "outputs": [],
   "source": [
    "model = create_model(28,28, n_classes)"
   ]
  },
  {
   "cell_type": "code",
   "execution_count": 216,
   "metadata": {},
   "outputs": [
    {
     "data": {
      "text/html": [
       "<div>\n",
       "<style scoped>\n",
       "    .dataframe tbody tr th:only-of-type {\n",
       "        vertical-align: middle;\n",
       "    }\n",
       "\n",
       "    .dataframe tbody tr th {\n",
       "        vertical-align: top;\n",
       "    }\n",
       "\n",
       "    .dataframe thead th {\n",
       "        text-align: right;\n",
       "    }\n",
       "</style>\n",
       "<table border=\"1\" class=\"dataframe\">\n",
       "  <thead>\n",
       "    <tr style=\"text-align: right;\">\n",
       "      <th></th>\n",
       "      <th>key_id</th>\n",
       "      <th>countrycode</th>\n",
       "      <th>recognized</th>\n",
       "      <th>timestamp</th>\n",
       "      <th>image</th>\n",
       "      <th>image_lenth</th>\n",
       "      <th>image_normalized</th>\n",
       "      <th>image_length</th>\n",
       "      <th>image_net</th>\n",
       "      <th>label</th>\n",
       "    </tr>\n",
       "  </thead>\n",
       "  <tbody>\n",
       "    <tr>\n",
       "      <th>0</th>\n",
       "      <td>5344373355053056</td>\n",
       "      <td>b'KR'</td>\n",
       "      <td>1</td>\n",
       "      <td>1490164248</td>\n",
       "      <td>[((2, 38, 71, 108, 128, 139), (10, 24, 31, 22,...</td>\n",
       "      <td>52</td>\n",
       "      <td>[[0.20454545, 0.05490196, 0.0], [0.1875, 0.027...</td>\n",
       "      <td>25</td>\n",
       "      <td>[[[0.0], [0.0], [0.0], [0.0], [0.0], [0.0], [0...</td>\n",
       "      <td>[1]</td>\n",
       "    </tr>\n",
       "    <tr>\n",
       "      <th>1</th>\n",
       "      <td>6545061917491200</td>\n",
       "      <td>b'SE'</td>\n",
       "      <td>1</td>\n",
       "      <td>1485553794</td>\n",
       "      <td>[((54, 37, 7, 5, 12, 0, 7, 34, 52, 56, 52, 42,...</td>\n",
       "      <td>36</td>\n",
       "      <td>[[-0.17525771, -0.06692913, 0.0], [-0.30927834...</td>\n",
       "      <td>17</td>\n",
       "      <td>[[[0.0], [0.0], [0.0], [0.0], [0.0], [0.0], [0...</td>\n",
       "      <td>[1]</td>\n",
       "    </tr>\n",
       "    <tr>\n",
       "      <th>2</th>\n",
       "      <td>4767264018530304</td>\n",
       "      <td>b'US'</td>\n",
       "      <td>0</td>\n",
       "      <td>1489097582</td>\n",
       "      <td>[((146, 145, 154, 154, 197, 196, 189, 191, 178...</td>\n",
       "      <td>48</td>\n",
       "      <td>[[-0.00507617, 0.14960632, 0.0], [0.04568529, ...</td>\n",
       "      <td>23</td>\n",
       "      <td>[[[0.0], [0.0], [0.0], [0.0], [0.0], [0.0], [0...</td>\n",
       "      <td>[1]</td>\n",
       "    </tr>\n",
       "    <tr>\n",
       "      <th>3</th>\n",
       "      <td>5711061690875904</td>\n",
       "      <td>b'DE'</td>\n",
       "      <td>1</td>\n",
       "      <td>1490298672</td>\n",
       "      <td>[((0, 8, 48, 69, 102, 118, 136, 142, 142, 135,...</td>\n",
       "      <td>90</td>\n",
       "      <td>[[0.033755273, -0.09019607, 0.0], [0.16877638,...</td>\n",
       "      <td>44</td>\n",
       "      <td>[[[0.0], [0.0], [0.0], [0.0], [0.0], [0.0], [0...</td>\n",
       "      <td>[1]</td>\n",
       "    </tr>\n",
       "    <tr>\n",
       "      <th>4</th>\n",
       "      <td>6276192535576576</td>\n",
       "      <td>b'US'</td>\n",
       "      <td>1</td>\n",
       "      <td>1485524332</td>\n",
       "      <td>[((25, 19, 4, 0, 22, 49, 59, 63, 66, 62, 59, 5...</td>\n",
       "      <td>78</td>\n",
       "      <td>[[-0.02714932, 0.21960786, 0.0], [-0.06787331,...</td>\n",
       "      <td>38</td>\n",
       "      <td>[[[0.0], [0.0], [0.0], [0.0], [0.0], [0.0], [0...</td>\n",
       "      <td>[1]</td>\n",
       "    </tr>\n",
       "    <tr>\n",
       "      <th>...</th>\n",
       "      <td>...</td>\n",
       "      <td>...</td>\n",
       "      <td>...</td>\n",
       "      <td>...</td>\n",
       "      <td>...</td>\n",
       "      <td>...</td>\n",
       "      <td>...</td>\n",
       "      <td>...</td>\n",
       "      <td>...</td>\n",
       "      <td>...</td>\n",
       "    </tr>\n",
       "    <tr>\n",
       "      <th>124117</th>\n",
       "      <td>6159496642560000</td>\n",
       "      <td>b'US'</td>\n",
       "      <td>1</td>\n",
       "      <td>1489597837</td>\n",
       "      <td>[((3, 10, 29, 45, 51, 65, 75, 77, 42, 29, 15, ...</td>\n",
       "      <td>50</td>\n",
       "      <td>[[0.06422018, 0.27058822, 0.0], [0.17431194, 0...</td>\n",
       "      <td>24</td>\n",
       "      <td>[[[0.0], [0.0], [0.0], [0.0], [0.0], [0.0], [0...</td>\n",
       "      <td>[1]</td>\n",
       "    </tr>\n",
       "    <tr>\n",
       "      <th>124118</th>\n",
       "      <td>5149341360586752</td>\n",
       "      <td>b'US'</td>\n",
       "      <td>1</td>\n",
       "      <td>1485895448</td>\n",
       "      <td>[((17, 17, 29, 29, 33, 89, 95, 95, 77, 47, 35)...</td>\n",
       "      <td>72</td>\n",
       "      <td>[[0.0, -0.12156862, 0.0], [0.12631579, -0.4666...</td>\n",
       "      <td>35</td>\n",
       "      <td>[[[0.0], [0.0], [0.0], [0.0], [0.0], [0.0], [0...</td>\n",
       "      <td>[1]</td>\n",
       "    </tr>\n",
       "    <tr>\n",
       "      <th>124119</th>\n",
       "      <td>6390876014116864</td>\n",
       "      <td>b'US'</td>\n",
       "      <td>1</td>\n",
       "      <td>1485783642</td>\n",
       "      <td>[((0, 35, 112, 146, 209, 223, 230, 249, 255, 2...</td>\n",
       "      <td>22</td>\n",
       "      <td>[[0.13725491, -0.13402063, 0.0], [0.30196077, ...</td>\n",
       "      <td>10</td>\n",
       "      <td>[[[0.0], [0.0], [0.0], [0.0], [0.0], [0.0], [0...</td>\n",
       "      <td>[1]</td>\n",
       "    </tr>\n",
       "    <tr>\n",
       "      <th>124120</th>\n",
       "      <td>4710517769764864</td>\n",
       "      <td>b'US'</td>\n",
       "      <td>1</td>\n",
       "      <td>1488997265</td>\n",
       "      <td>[((14, 1, 2, 17, 34, 46, 62), (2, 43, 84, 117,...</td>\n",
       "      <td>60</td>\n",
       "      <td>[[-0.11304348, 0.16078432, 0.0], [0.008695652,...</td>\n",
       "      <td>29</td>\n",
       "      <td>[[[0.0], [0.0], [0.0], [0.0], [0.0], [0.0], [0...</td>\n",
       "      <td>[1]</td>\n",
       "    </tr>\n",
       "    <tr>\n",
       "      <th>124121</th>\n",
       "      <td>4915033509199872</td>\n",
       "      <td>b'US'</td>\n",
       "      <td>1</td>\n",
       "      <td>1488985751</td>\n",
       "      <td>[((11, 1, 2), (255, 144, 70)), ((39, 38, 93, 1...</td>\n",
       "      <td>24</td>\n",
       "      <td>[[-0.08130081, -0.4352941, 0.0], [0.008130081,...</td>\n",
       "      <td>11</td>\n",
       "      <td>[[[0.0], [0.0], [0.0], [0.0], [0.0], [0.0], [0...</td>\n",
       "      <td>[1]</td>\n",
       "    </tr>\n",
       "  </tbody>\n",
       "</table>\n",
       "<p>124122 rows × 10 columns</p>\n",
       "</div>"
      ],
      "text/plain": [
       "                  key_id countrycode  recognized   timestamp  \\\n",
       "0       5344373355053056       b'KR'           1  1490164248   \n",
       "1       6545061917491200       b'SE'           1  1485553794   \n",
       "2       4767264018530304       b'US'           0  1489097582   \n",
       "3       5711061690875904       b'DE'           1  1490298672   \n",
       "4       6276192535576576       b'US'           1  1485524332   \n",
       "...                  ...         ...         ...         ...   \n",
       "124117  6159496642560000       b'US'           1  1489597837   \n",
       "124118  5149341360586752       b'US'           1  1485895448   \n",
       "124119  6390876014116864       b'US'           1  1485783642   \n",
       "124120  4710517769764864       b'US'           1  1488997265   \n",
       "124121  4915033509199872       b'US'           1  1488985751   \n",
       "\n",
       "                                                    image  image_lenth  \\\n",
       "0       [((2, 38, 71, 108, 128, 139), (10, 24, 31, 22,...           52   \n",
       "1       [((54, 37, 7, 5, 12, 0, 7, 34, 52, 56, 52, 42,...           36   \n",
       "2       [((146, 145, 154, 154, 197, 196, 189, 191, 178...           48   \n",
       "3       [((0, 8, 48, 69, 102, 118, 136, 142, 142, 135,...           90   \n",
       "4       [((25, 19, 4, 0, 22, 49, 59, 63, 66, 62, 59, 5...           78   \n",
       "...                                                   ...          ...   \n",
       "124117  [((3, 10, 29, 45, 51, 65, 75, 77, 42, 29, 15, ...           50   \n",
       "124118  [((17, 17, 29, 29, 33, 89, 95, 95, 77, 47, 35)...           72   \n",
       "124119  [((0, 35, 112, 146, 209, 223, 230, 249, 255, 2...           22   \n",
       "124120  [((14, 1, 2, 17, 34, 46, 62), (2, 43, 84, 117,...           60   \n",
       "124121  [((11, 1, 2), (255, 144, 70)), ((39, 38, 93, 1...           24   \n",
       "\n",
       "                                         image_normalized  image_length  \\\n",
       "0       [[0.20454545, 0.05490196, 0.0], [0.1875, 0.027...            25   \n",
       "1       [[-0.17525771, -0.06692913, 0.0], [-0.30927834...            17   \n",
       "2       [[-0.00507617, 0.14960632, 0.0], [0.04568529, ...            23   \n",
       "3       [[0.033755273, -0.09019607, 0.0], [0.16877638,...            44   \n",
       "4       [[-0.02714932, 0.21960786, 0.0], [-0.06787331,...            38   \n",
       "...                                                   ...           ...   \n",
       "124117  [[0.06422018, 0.27058822, 0.0], [0.17431194, 0...            24   \n",
       "124118  [[0.0, -0.12156862, 0.0], [0.12631579, -0.4666...            35   \n",
       "124119  [[0.13725491, -0.13402063, 0.0], [0.30196077, ...            10   \n",
       "124120  [[-0.11304348, 0.16078432, 0.0], [0.008695652,...            29   \n",
       "124121  [[-0.08130081, -0.4352941, 0.0], [0.008130081,...            11   \n",
       "\n",
       "                                                image_net label  \n",
       "0       [[[0.0], [0.0], [0.0], [0.0], [0.0], [0.0], [0...   [1]  \n",
       "1       [[[0.0], [0.0], [0.0], [0.0], [0.0], [0.0], [0...   [1]  \n",
       "2       [[[0.0], [0.0], [0.0], [0.0], [0.0], [0.0], [0...   [1]  \n",
       "3       [[[0.0], [0.0], [0.0], [0.0], [0.0], [0.0], [0...   [1]  \n",
       "4       [[[0.0], [0.0], [0.0], [0.0], [0.0], [0.0], [0...   [1]  \n",
       "...                                                   ...   ...  \n",
       "124117  [[[0.0], [0.0], [0.0], [0.0], [0.0], [0.0], [0...   [1]  \n",
       "124118  [[[0.0], [0.0], [0.0], [0.0], [0.0], [0.0], [0...   [1]  \n",
       "124119  [[[0.0], [0.0], [0.0], [0.0], [0.0], [0.0], [0...   [1]  \n",
       "124120  [[[0.0], [0.0], [0.0], [0.0], [0.0], [0.0], [0...   [1]  \n",
       "124121  [[[0.0], [0.0], [0.0], [0.0], [0.0], [0.0], [0...   [1]  \n",
       "\n",
       "[124122 rows x 10 columns]"
      ]
     },
     "execution_count": 216,
     "metadata": {},
     "output_type": "execute_result"
    }
   ],
   "source": []
  },
  {
   "cell_type": "code",
   "execution_count": null,
   "metadata": {},
   "outputs": [],
   "source": []
  }
 ],
 "metadata": {
  "kernelspec": {
   "display_name": "Python 3",
   "language": "python",
   "name": "python3"
  },
  "language_info": {
   "codemirror_mode": {
    "name": "ipython",
    "version": 3
   },
   "file_extension": ".py",
   "mimetype": "text/x-python",
   "name": "python",
   "nbconvert_exporter": "python",
   "pygments_lexer": "ipython3",
   "version": "3.6.9"
  }
 },
 "nbformat": 4,
 "nbformat_minor": 4
}
